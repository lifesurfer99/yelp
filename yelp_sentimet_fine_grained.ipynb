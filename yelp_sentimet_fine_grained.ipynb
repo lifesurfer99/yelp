{
  "nbformat": 4,
  "nbformat_minor": 0,
  "metadata": {
    "colab": {
      "name": "Untitled22.ipynb",
      "provenance": []
    },
    "kernelspec": {
      "name": "python3",
      "display_name": "Python 3"
    },
    "accelerator": "GPU"
  },
  "cells": [
    {
      "cell_type": "code",
      "metadata": {
        "id": "qC9Tjp9VlBS8",
        "colab_type": "code",
        "outputId": "36641f7f-d834-44ac-9cf4-0f960ef894d0",
        "colab": {
          "base_uri": "https://localhost:8080/",
          "height": 98
        }
      },
      "source": [
        "import numpy as np # linear algebra\n",
        "import pandas as pd # data processing, CSV file I/O (e.g. pd.read_csv)\n",
        "from keras.layers import Dense, Embedding, LSTM, SpatialDropout1D\n",
        "from keras.models import Sequential\n",
        "from sklearn.feature_extraction.text import CountVectorizer\n",
        "from keras.preprocessing.text import Tokenizer\n",
        "from keras.preprocessing.sequence import pad_sequences\n",
        "from sklearn.model_selection import train_test_split\n",
        "from keras.utils.np_utils import to_categorical\n",
        "from keras.callbacks import EarlyStopping\n",
        "\n",
        "# Input data files are available in the \"../input/\" directory.\n",
        "# For example, running this (by clicking run or pressing Shift+Enter) will list the files in the input directory\n"
      ],
      "execution_count": 0,
      "outputs": [
        {
          "output_type": "stream",
          "text": [
            "Using TensorFlow backend.\n"
          ],
          "name": "stderr"
        },
        {
          "output_type": "display_data",
          "data": {
            "text/html": [
              "<p style=\"color: red;\">\n",
              "The default version of TensorFlow in Colab will soon switch to TensorFlow 2.x.<br>\n",
              "We recommend you <a href=\"https://www.tensorflow.org/guide/migrate\" target=\"_blank\">upgrade</a> now \n",
              "or ensure your notebook will continue to use TensorFlow 1.x via the <code>%tensorflow_version 1.x</code> magic:\n",
              "<a href=\"https://colab.research.google.com/notebooks/tensorflow_version.ipynb\" target=\"_blank\">more info</a>.</p>\n"
            ],
            "text/plain": [
              "<IPython.core.display.HTML object>"
            ]
          },
          "metadata": {
            "tags": []
          }
        }
      ]
    },
    {
      "cell_type": "code",
      "metadata": {
        "id": "bhTKDl-mmUym",
        "colab_type": "code",
        "colab": {
          "base_uri": "https://localhost:8080/",
          "height": 34
        },
        "outputId": "2e70ddf9-9415-4a26-ca06-5ff499c66391"
      },
      "source": [
        "from google.colab import drive\n",
        "drive.mount('/gdrive', force_remount=True)\n",
        "\n",
        "data = pd.read_csv(\"/gdrive/My Drive/yelp.csv\", usecols=['text', 'stars'])\n",
        "\n"
      ],
      "execution_count": 4,
      "outputs": [
        {
          "output_type": "stream",
          "text": [
            "Mounted at /gdrive\n"
          ],
          "name": "stdout"
        }
      ]
    },
    {
      "cell_type": "code",
      "metadata": {
        "id": "iib0bEhZmsYc",
        "colab_type": "code",
        "colab": {
          "base_uri": "https://localhost:8080/",
          "height": 69
        },
        "outputId": "e0e37c48-2160-4877-c8a1-49bf6ef10e1b"
      },
      "source": [
        "#M class has way less data than the orthers, thus the classes are unbalanced.\n",
        "data.stars.value_counts()\n",
        "data['stars'] = data['stars'].apply(str)\n",
        "data.dtypes"
      ],
      "execution_count": 21,
      "outputs": [
        {
          "output_type": "execute_result",
          "data": {
            "text/plain": [
              "text     object\n",
              "stars    object\n",
              "dtype: object"
            ]
          },
          "metadata": {
            "tags": []
          },
          "execution_count": 21
        }
      ]
    },
    {
      "cell_type": "code",
      "metadata": {
        "id": "rkiAGoCZlk5k",
        "colab_type": "code",
        "colab": {}
      },
      "source": [
        "#I do aspire here to have balanced classes\n",
        "num_of_categories = 58000\n",
        "shuffled = data.reindex(np.random.permutation(data.index))\n",
        "e = shuffled[shuffled['stars'] == '1'][:num_of_categories]\n",
        "b = shuffled[shuffled['stars'] == '2'][:num_of_categories]\n",
        "t = shuffled[shuffled['stars'] == '3'][:num_of_categories]\n",
        "m = shuffled[shuffled['stars'] == '4'][:num_of_categories]\n",
        "f = shuffled[shuffled['stars'] == '5'][:num_of_categories]\n",
        "concated = pd.concat([e,b,t,m,f], ignore_index=True)\n",
        "concated\n",
        "#Shuffle the dataset\n",
        "concated = concated.reindex(np.random.permutation(concated.index))\n",
        "concated['LABEL'] = 0"
      ],
      "execution_count": 0,
      "outputs": []
    },
    {
      "cell_type": "code",
      "metadata": {
        "id": "fbtgO2MPnXw1",
        "colab_type": "code",
        "colab": {
          "base_uri": "https://localhost:8080/",
          "height": 384
        },
        "outputId": "103e46f7-6ba3-4e67-f482-3aa980a63e6e"
      },
      "source": [
        "#One-hot encode the lab\n",
        "concated.loc[concated['stars'] == '1', 'LABEL'] = 0\n",
        "concated.loc[concated['stars'] == '2', 'LABEL'] = 1\n",
        "concated.loc[concated['stars'] == '3', 'LABEL'] = 2\n",
        "concated.loc[concated['stars'] == '4', 'LABEL'] = 3\n",
        "concated.loc[concated['stars'] == '5', 'LABEL'] = 4\n",
        "print(concated['LABEL'][:10])\n",
        "labels = to_categorical(concated['LABEL'], num_classes=5)\n",
        "print(labels[:10])\n",
        "if 'stars' in concated.keys():\n",
        "    concated.drop(['stars'], axis=1)"
      ],
      "execution_count": 23,
      "outputs": [
        {
          "output_type": "stream",
          "text": [
            "42100     0\n",
            "112613    1\n",
            "216747    3\n",
            "65923     1\n",
            "81130     1\n",
            "10089     0\n",
            "279160    4\n",
            "41826     0\n",
            "5902      0\n",
            "24559     0\n",
            "Name: LABEL, dtype: int64\n",
            "[[1. 0. 0. 0. 0.]\n",
            " [0. 1. 0. 0. 0.]\n",
            " [0. 0. 0. 1. 0.]\n",
            " [0. 1. 0. 0. 0.]\n",
            " [0. 1. 0. 0. 0.]\n",
            " [1. 0. 0. 0. 0.]\n",
            " [0. 0. 0. 0. 1.]\n",
            " [1. 0. 0. 0. 0.]\n",
            " [1. 0. 0. 0. 0.]\n",
            " [1. 0. 0. 0. 0.]]\n"
          ],
          "name": "stdout"
        }
      ]
    },
    {
      "cell_type": "code",
      "metadata": {
        "id": "jm_sCKnPp0wB",
        "colab_type": "code",
        "colab": {
          "base_uri": "https://localhost:8080/",
          "height": 34
        },
        "outputId": "198de6ca-353b-4dc8-af6a-115901da74ca"
      },
      "source": [
        "n_most_common_words = 8000\n",
        "max_len = 130\n",
        "tokenizer = Tokenizer(num_words=n_most_common_words, filters='!\"#$%&()*+,-./:;<=>?@[\\]^_`{|}~', lower=True)\n",
        "tokenizer.fit_on_texts(concated['text'].values)\n",
        "sequences = tokenizer.texts_to_sequences(concated['text'].values)\n",
        "word_index = tokenizer.word_index\n",
        "print('Found %s unique tokens.' % len(word_index))\n",
        "\n",
        "X = pad_sequences(sequences, maxlen=max_len)"
      ],
      "execution_count": 25,
      "outputs": [
        {
          "output_type": "stream",
          "text": [
            "Found 194351 unique tokens.\n"
          ],
          "name": "stdout"
        }
      ]
    },
    {
      "cell_type": "code",
      "metadata": {
        "id": "LfQSNQq5ANVO",
        "colab_type": "code",
        "colab": {}
      },
      "source": [
        "X_train, X_test, y_train, y_test = train_test_split(X , labels, test_size=0.25, random_state=42)"
      ],
      "execution_count": 0,
      "outputs": []
    },
    {
      "cell_type": "code",
      "metadata": {
        "id": "kXThDCWdAPxI",
        "colab_type": "code",
        "colab": {
          "base_uri": "https://localhost:8080/",
          "height": 52
        },
        "outputId": "8815dfa5-5ec2-48fe-f84e-e6c6958b2cc8"
      },
      "source": [
        "epochs = 10\n",
        "emb_dim = 128\n",
        "batch_size = 256\n",
        "labels[:2]"
      ],
      "execution_count": 27,
      "outputs": [
        {
          "output_type": "execute_result",
          "data": {
            "text/plain": [
              "array([[1., 0., 0., 0., 0.],\n",
              "       [0., 1., 0., 0., 0.]], dtype=float32)"
            ]
          },
          "metadata": {
            "tags": []
          },
          "execution_count": 27
        }
      ]
    },
    {
      "cell_type": "code",
      "metadata": {
        "id": "N6NwJ-FPAReW",
        "colab_type": "code",
        "colab": {
          "base_uri": "https://localhost:8080/",
          "height": 1000
        },
        "outputId": "9b1d419a-151c-4ae5-9741-ae989432cf0c"
      },
      "source": [
        "print((X_train.shape, y_train.shape, X_test.shape, y_test.shape))\n",
        "\n",
        "model = Sequential()\n",
        "model.add(Embedding(n_most_common_words, emb_dim, input_length=X.shape[1]))\n",
        "model.add(SpatialDropout1D(0.7))\n",
        "model.add(LSTM(64, dropout=0.7, recurrent_dropout=0.7))\n",
        "model.add(Dense(5, activation='softmax'))\n",
        "model.compile(optimizer='adam', loss='categorical_crossentropy', metrics=['acc'])\n",
        "print(model.summary())\n",
        "history = model.fit(X_train, y_train, epochs=epochs, batch_size=batch_size,validation_split=0.2,callbacks=[EarlyStopping(monitor='val_loss',patience=7, min_delta=0.0001)])"
      ],
      "execution_count": 29,
      "outputs": [
        {
          "output_type": "stream",
          "text": [
            "((217500, 130), (217500, 5), (72500, 130), (72500, 5))\n",
            "Model: \"sequential_2\"\n",
            "_________________________________________________________________\n",
            "Layer (type)                 Output Shape              Param #   \n",
            "=================================================================\n",
            "embedding_2 (Embedding)      (None, 130, 128)          1024000   \n",
            "_________________________________________________________________\n",
            "spatial_dropout1d_2 (Spatial (None, 130, 128)          0         \n",
            "_________________________________________________________________\n",
            "lstm_2 (LSTM)                (None, 64)                49408     \n",
            "_________________________________________________________________\n",
            "dense_2 (Dense)              (None, 5)                 325       \n",
            "=================================================================\n",
            "Total params: 1,073,733\n",
            "Trainable params: 1,073,733\n",
            "Non-trainable params: 0\n",
            "_________________________________________________________________\n",
            "None\n",
            "WARNING:tensorflow:From /usr/local/lib/python3.6/dist-packages/tensorflow_core/python/ops/math_grad.py:1424: where (from tensorflow.python.ops.array_ops) is deprecated and will be removed in a future version.\n",
            "Instructions for updating:\n",
            "Use tf.where in 2.0, which has the same broadcast rule as np.where\n",
            "WARNING:tensorflow:From /usr/local/lib/python3.6/dist-packages/keras/backend/tensorflow_backend.py:1033: The name tf.assign_add is deprecated. Please use tf.compat.v1.assign_add instead.\n",
            "\n",
            "WARNING:tensorflow:From /usr/local/lib/python3.6/dist-packages/keras/backend/tensorflow_backend.py:1020: The name tf.assign is deprecated. Please use tf.compat.v1.assign instead.\n",
            "\n",
            "WARNING:tensorflow:From /usr/local/lib/python3.6/dist-packages/keras/backend/tensorflow_backend.py:3005: The name tf.Session is deprecated. Please use tf.compat.v1.Session instead.\n",
            "\n",
            "Train on 174000 samples, validate on 43500 samples\n",
            "Epoch 1/10\n",
            "WARNING:tensorflow:From /usr/local/lib/python3.6/dist-packages/keras/backend/tensorflow_backend.py:190: The name tf.get_default_session is deprecated. Please use tf.compat.v1.get_default_session instead.\n",
            "\n",
            "WARNING:tensorflow:From /usr/local/lib/python3.6/dist-packages/keras/backend/tensorflow_backend.py:197: The name tf.ConfigProto is deprecated. Please use tf.compat.v1.ConfigProto instead.\n",
            "\n",
            "WARNING:tensorflow:From /usr/local/lib/python3.6/dist-packages/keras/backend/tensorflow_backend.py:207: The name tf.global_variables is deprecated. Please use tf.compat.v1.global_variables instead.\n",
            "\n",
            "WARNING:tensorflow:From /usr/local/lib/python3.6/dist-packages/keras/backend/tensorflow_backend.py:216: The name tf.is_variable_initialized is deprecated. Please use tf.compat.v1.is_variable_initialized instead.\n",
            "\n",
            "WARNING:tensorflow:From /usr/local/lib/python3.6/dist-packages/keras/backend/tensorflow_backend.py:223: The name tf.variables_initializer is deprecated. Please use tf.compat.v1.variables_initializer instead.\n",
            "\n",
            "174000/174000 [==============================] - 226s 1ms/step - loss: 1.4074 - acc: 0.3646 - val_loss: 1.1991 - val_acc: 0.4725\n",
            "Epoch 2/10\n",
            "174000/174000 [==============================] - 220s 1ms/step - loss: 1.2464 - acc: 0.4494 - val_loss: 1.1068 - val_acc: 0.5086\n",
            "Epoch 3/10\n",
            "174000/174000 [==============================] - 219s 1ms/step - loss: 1.1818 - acc: 0.4789 - val_loss: 1.0507 - val_acc: 0.5372\n",
            "Epoch 4/10\n",
            "174000/174000 [==============================] - 218s 1ms/step - loss: 1.1319 - acc: 0.5052 - val_loss: 1.0067 - val_acc: 0.5638\n",
            "Epoch 5/10\n",
            "174000/174000 [==============================] - 219s 1ms/step - loss: 1.0891 - acc: 0.5279 - val_loss: 0.9800 - val_acc: 0.5710\n",
            "Epoch 6/10\n",
            "174000/174000 [==============================] - 219s 1ms/step - loss: 1.0598 - acc: 0.5394 - val_loss: 0.9708 - val_acc: 0.5759\n",
            "Epoch 7/10\n",
            "174000/174000 [==============================] - 218s 1ms/step - loss: 1.0280 - acc: 0.5534 - val_loss: 0.9486 - val_acc: 0.5857\n",
            "Epoch 8/10\n",
            "174000/174000 [==============================] - 217s 1ms/step - loss: 1.0069 - acc: 0.5619 - val_loss: 0.9435 - val_acc: 0.5896\n",
            "Epoch 9/10\n",
            "174000/174000 [==============================] - 217s 1ms/step - loss: 0.9900 - acc: 0.5694 - val_loss: 0.9331 - val_acc: 0.5942\n",
            "Epoch 10/10\n",
            "174000/174000 [==============================] - 216s 1ms/step - loss: 0.9727 - acc: 0.5768 - val_loss: 0.9234 - val_acc: 0.5981\n"
          ],
          "name": "stdout"
        }
      ]
    },
    {
      "cell_type": "code",
      "metadata": {
        "id": "Dis1ueEEAjco",
        "colab_type": "code",
        "colab": {
          "base_uri": "https://localhost:8080/",
          "height": 87
        },
        "outputId": "2143da88-fffc-4c98-b926-fe60cdb97c4d"
      },
      "source": [
        "accr = model.evaluate(X_test,y_test)\n",
        "print('Test set\\n  Loss: {:0.3f}\\n  Accuracy: {:0.3f}'.format(accr[0],accr[1]))"
      ],
      "execution_count": 30,
      "outputs": [
        {
          "output_type": "stream",
          "text": [
            "72500/72500 [==============================] - 236s 3ms/step\n",
            "Test set\n",
            "  Loss: 0.917\n",
            "  Accuracy: 0.602\n"
          ],
          "name": "stdout"
        }
      ]
    },
    {
      "cell_type": "code",
      "metadata": {
        "id": "7DIge0SIKgeS",
        "colab_type": "code",
        "colab": {
          "base_uri": "https://localhost:8080/",
          "height": 545
        },
        "outputId": "22645a68-6046-49c4-efff-3c858eeb2ead"
      },
      "source": [
        "import matplotlib.pyplot as plt\n",
        "\n",
        "acc = history.history['acc']\n",
        "val_acc = history.history['val_acc']\n",
        "loss = history.history['loss']\n",
        "val_loss = history.history['val_loss']\n",
        "\n",
        "epochs = range(1, len(acc) + 1)\n",
        "\n",
        "plt.plot(epochs, acc, 'bo', label='Training acc')\n",
        "plt.plot(epochs, val_acc, 'b', label='Validation acc')\n",
        "plt.title('Training and validation accuracy')\n",
        "plt.legend()\n",
        "\n",
        "plt.figure()\n",
        "\n",
        "plt.plot(epochs, loss, 'bo', label='Training loss')\n",
        "plt.plot(epochs, val_loss, 'b', label='Validation loss')\n",
        "plt.title('Training and validation loss')\n",
        "plt.legend()\n",
        "\n",
        "plt.show()"
      ],
      "execution_count": 31,
      "outputs": [
        {
          "output_type": "display_data",
          "data": {
            "image/png": "[encoded data removed]",
            "text/plain": [
              "<Figure size 432x288 with 1 Axes>"
            ]
          },
          "metadata": {
            "tags": []
          }
        },
        {
          "output_type": "display_data",
          "data": {
            "image/png": "[encoded data removed]",
            "text/plain": [
              "<Figure size 432x288 with 1 Axes>"
            ]
          },
          "metadata": {
            "tags": []
          }
        }
      ]
    },
    {
      "cell_type": "code",
      "metadata": {
        "id": "HjY7Nm1OKiTX",
        "colab_type": "code",
        "colab": {
          "base_uri": "https://localhost:8080/",
          "height": 52
        },
        "outputId": "117ecb90-8bb0-47cb-f4ed-ce9edd9cdbf2"
      },
      "source": [
        "txt = [\"Regular fast food eating linked to fertility issues in women\"]\n",
        "seq = tokenizer.texts_to_sequences(txt)\n",
        "padded = pad_sequences(seq, maxlen=max_len)\n",
        "pred = model.predict(padded)\n",
        "labels = ['1', '2', '3', '4', '5']\n",
        "#print(pred, labels[np.argmax(pred)])\n",
        "#print(np.argmax(pred))\n",
        "\n",
        "print(\"====result=====\")\n",
        "rating = np.argmax(pred)\n",
        "if rating == 0 :\n",
        "  print(labels[0])\n",
        "elif rating == 1:\n",
        "  print(labels[1])\n",
        "elif rating == 2:\n",
        "  print(labels[2])\n",
        "elif rating == 3:\n",
        "  print(labels[3])\n",
        "elif rating == 4:\n",
        "  print(labels[4])\n"
      ],
      "execution_count": 38,
      "outputs": [
        {
          "output_type": "stream",
          "text": [
            "====result=====\n",
            "4\n"
          ],
          "name": "stdout"
        }
      ]
    }
  ]
}